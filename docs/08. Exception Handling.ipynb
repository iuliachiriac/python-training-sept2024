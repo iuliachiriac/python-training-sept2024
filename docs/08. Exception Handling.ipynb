{
 "cells": [
  {
   "cell_type": "markdown",
   "id": "6ea54c82-8abb-4914-8a09-5200fc912f1f",
   "metadata": {},
   "source": [
    "## Exception handling (`try` statement)"
   ]
  },
  {
   "cell_type": "markdown",
   "id": "c567e57e-867a-4820-8205-8bc6a3a3fcc5",
   "metadata": {},
   "source": [
    "Python has many [built-in exceptions](https://docs.python.org/3/library/exceptions.html) that are raised when your program encounters an error (something in the program goes wrong).\n",
    "\n",
    "When these exceptions occur, the Python interpreter stops the current process and passes it to the calling process until it is handled. If not handled, the program will crash.\n",
    "\n",
    "In Python, exceptions can be handled using a `try` statement.\n",
    "\n",
    "The critical operation which can raise an exception is placed inside the `try` clause. The code that handles the exceptions is written in the `except` clause."
   ]
  },
  {
   "cell_type": "code",
   "execution_count": 20,
   "id": "b2f87d89-48fe-48af-8db1-f1a042a705f2",
   "metadata": {
    "editable": true,
    "slideshow": {
     "slide_type": ""
    },
    "tags": [
     "raises-exception"
    ]
   },
   "outputs": [
    {
     "ename": "IndexError",
     "evalue": "string index out of range",
     "output_type": "error",
     "traceback": [
      "\u001b[0;31m---------------------------------------------------------------------------\u001b[0m",
      "\u001b[0;31mIndexError\u001b[0m                                Traceback (most recent call last)",
      "Cell \u001b[0;32mIn[20], line 2\u001b[0m\n\u001b[1;32m      1\u001b[0m greeting \u001b[38;5;241m=\u001b[39m \u001b[38;5;124m'\u001b[39m\u001b[38;5;124mhello\u001b[39m\u001b[38;5;124m'\u001b[39m\n\u001b[0;32m----> 2\u001b[0m \u001b[38;5;28mprint\u001b[39m(\u001b[43mgreeting\u001b[49m\u001b[43m[\u001b[49m\u001b[38;5;241;43m5\u001b[39;49m\u001b[43m]\u001b[49m)\n",
      "\u001b[0;31mIndexError\u001b[0m: string index out of range"
     ]
    }
   ],
   "source": [
    "greeting = 'hello'\n",
    "print(greeting[5])"
   ]
  },
  {
   "cell_type": "markdown",
   "id": "a0624ea2-5ca5-45a2-a665-549157f9fbf7",
   "metadata": {
    "editable": true,
    "slideshow": {
     "slide_type": ""
    },
    "tags": []
   },
   "source": [
    "Let's catch the exception:"
   ]
  },
  {
   "cell_type": "code",
   "execution_count": 21,
   "id": "9fbb224d-4fdb-4833-bba2-027f31e40f6b",
   "metadata": {
    "editable": true,
    "slideshow": {
     "slide_type": ""
    },
    "tags": []
   },
   "outputs": [
    {
     "name": "stdout",
     "output_type": "stream",
     "text": [
      "Exception occurred!\n"
     ]
    }
   ],
   "source": [
    "try:\n",
    "    print(greeting[5])\n",
    "except:\n",
    "    print('Exception occurred!')"
   ]
  },
  {
   "cell_type": "markdown",
   "id": "617c1920-19a7-406d-bb4e-c2d3d41fbbbd",
   "metadata": {
    "editable": true,
    "slideshow": {
     "slide_type": ""
    },
    "tags": []
   },
   "source": [
    "In the above example, we did not mention any specific exception in the `except` clause.\n",
    "\n",
    "This is not a good programming practice as it will catch all exceptions and handle every case in the same way. We should specify which exceptions an `except` clause should catch. We can also use the *exception object* in the `except` clause, if we instantiate it with `as`."
   ]
  },
  {
   "cell_type": "code",
   "execution_count": 22,
   "id": "5995d3f5-78c5-4674-99cb-b00f07180ce4",
   "metadata": {
    "editable": true,
    "slideshow": {
     "slide_type": ""
    },
    "tags": []
   },
   "outputs": [
    {
     "name": "stdout",
     "output_type": "stream",
     "text": [
      "Exception \"string index out of range\" occurred!\n"
     ]
    }
   ],
   "source": [
    "try:\n",
    "    print(greeting[5])\n",
    "except IndexError as ex:\n",
    "    print(f'Exception \"{ex}\" occurred!')"
   ]
  },
  {
   "cell_type": "markdown",
   "id": "606d3e89-42b5-44f8-898e-2f97fa490614",
   "metadata": {
    "editable": true,
    "slideshow": {
     "slide_type": ""
    },
    "tags": []
   },
   "source": [
    "A `try` clause can have any number of `except` clauses to handle different exceptions, however, only one will be executed in case an exception occurs. We can use a tuple of values to specify multiple exceptions in an except clause. "
   ]
  },
  {
   "cell_type": "code",
   "execution_count": 23,
   "id": "49b7d3f3-4121-42c3-9ca1-36b90bc9147b",
   "metadata": {
    "editable": true,
    "slideshow": {
     "slide_type": ""
    },
    "tags": []
   },
   "outputs": [
    {
     "name": "stdout",
     "output_type": "stream",
     "text": [
      "Exception \"string index out of range\" occurred!\n"
     ]
    }
   ],
   "source": [
    "try:\n",
    "    print(greeting[5])\n",
    "except (ValueError, TypeError) as ex:\n",
    "    print(ex)\n",
    "except IndexError as ex:\n",
    "    print(f'Exception \"{ex}\" occurred!')"
   ]
  },
  {
   "cell_type": "markdown",
   "id": "1dede8cf-3e5a-433e-8b58-c22b3676804c",
   "metadata": {
    "editable": true,
    "slideshow": {
     "slide_type": ""
    },
    "tags": []
   },
   "source": [
    "Exceptions are objects and their inheritance tree allows us to catch the ones we need or a category of the ones we need.\n",
    "![Exceptions Tree](exceptions_tree.png \"Exceptions Tree\")\n",
    "\n",
    "In some situations, you might want to run a certain block of code if the code block inside `try` ran without any errors. For these cases, you can use the optional `else` keyword with the `try` statement."
   ]
  },
  {
   "cell_type": "code",
   "execution_count": 24,
   "id": "a476f430-a25b-4fc1-a34f-839d9ade1545",
   "metadata": {
    "editable": true,
    "slideshow": {
     "slide_type": ""
    },
    "tags": []
   },
   "outputs": [
    {
     "name": "stdout",
     "output_type": "stream",
     "text": [
      "Last character in \"hello\" is \"o\"\n"
     ]
    }
   ],
   "source": [
    "try:\n",
    "    last_char = greeting[4]\n",
    "except IndexError as ex:\n",
    "    print(f'Exception \"{ex}\" occurred!')\n",
    "else:\n",
    "    # Executia trece pe aici doar daca nu a fost exceptie\n",
    "    print(f'Last character in \"{greeting}\" is \"{last_char}\"')\n",
    "    \n",
    "# executia continua daca nu a fost exceptie SAU am prins exceptia ridicată"
   ]
  },
  {
   "cell_type": "markdown",
   "id": "6c562a91-7fb1-4448-af44-e9800ba92068",
   "metadata": {
    "editable": true,
    "slideshow": {
     "slide_type": ""
    },
    "tags": []
   },
   "source": [
    "The `try` statement in Python can have an optional `finally` clause. This clause is executed no matter what, and is generally used to release external resources."
   ]
  },
  {
   "cell_type": "code",
   "execution_count": 25,
   "id": "659b65eb-04fc-4a0d-b9fd-04f9e0295d69",
   "metadata": {
    "editable": true,
    "slideshow": {
     "slide_type": ""
    },
    "tags": []
   },
   "outputs": [
    {
     "name": "stdout",
     "output_type": "stream",
     "text": [
      "Exception \"string index out of range\" occurred!\n",
      "Executes every time\n"
     ]
    }
   ],
   "source": [
    "try:\n",
    "    print(greeting[5])\n",
    "except IndexError as ex:\n",
    "    print(f'Exception \"{ex}\" occurred!')\n",
    "finally:\n",
    "    print('Executes every time')"
   ]
  },
  {
   "cell_type": "code",
   "execution_count": 26,
   "id": "baf7e1bf-f1b7-4456-af73-cfcc5020da0a",
   "metadata": {
    "editable": true,
    "slideshow": {
     "slide_type": ""
    },
    "tags": [
     "raises-exception"
    ]
   },
   "outputs": [
    {
     "name": "stdout",
     "output_type": "stream",
     "text": [
      "Executes every time\n"
     ]
    },
    {
     "ename": "IndexError",
     "evalue": "string index out of range",
     "output_type": "error",
     "traceback": [
      "\u001b[0;31m---------------------------------------------------------------------------\u001b[0m",
      "\u001b[0;31mIndexError\u001b[0m                                Traceback (most recent call last)",
      "Cell \u001b[0;32mIn[26], line 2\u001b[0m\n\u001b[1;32m      1\u001b[0m \u001b[38;5;28;01mtry\u001b[39;00m:\n\u001b[0;32m----> 2\u001b[0m     \u001b[38;5;28mprint\u001b[39m(\u001b[43mgreeting\u001b[49m\u001b[43m[\u001b[49m\u001b[38;5;241;43m5\u001b[39;49m\u001b[43m]\u001b[49m)\n\u001b[1;32m      3\u001b[0m \u001b[38;5;28;01mfinally\u001b[39;00m:\n\u001b[1;32m      4\u001b[0m     \u001b[38;5;28mprint\u001b[39m(\u001b[38;5;124m'\u001b[39m\u001b[38;5;124mExecutes every time\u001b[39m\u001b[38;5;124m'\u001b[39m)\n",
      "\u001b[0;31mIndexError\u001b[0m: string index out of range"
     ]
    }
   ],
   "source": [
    "try:\n",
    "    print(greeting[5])\n",
    "finally:\n",
    "    print('Executes every time')"
   ]
  },
  {
   "cell_type": "markdown",
   "id": "b97154ed-3f23-422f-91a1-6dcb4ecf4a7d",
   "metadata": {
    "editable": true,
    "slideshow": {
     "slide_type": ""
    },
    "tags": []
   },
   "source": [
    "## Explicitly raising exceptions (`raise` statement)\n",
    "\n",
    "In Python, exceptions are raised when errors occur at runtime. We can also manually raise exceptions using the `raise` statement."
   ]
  },
  {
   "cell_type": "code",
   "execution_count": 27,
   "id": "391e5540-2e85-4893-8afb-ab6a0ae7d5bb",
   "metadata": {
    "editable": true,
    "slideshow": {
     "slide_type": ""
    },
    "tags": [
     "raises-exception"
    ]
   },
   "outputs": [
    {
     "ename": "ValueError",
     "evalue": "",
     "output_type": "error",
     "traceback": [
      "\u001b[0;31m---------------------------------------------------------------------------\u001b[0m",
      "\u001b[0;31mValueError\u001b[0m                                Traceback (most recent call last)",
      "Cell \u001b[0;32mIn[27], line 1\u001b[0m\n\u001b[0;32m----> 1\u001b[0m \u001b[38;5;28;01mraise\u001b[39;00m \u001b[38;5;167;01mValueError\u001b[39;00m\n",
      "\u001b[0;31mValueError\u001b[0m: "
     ]
    }
   ],
   "source": [
    "raise ValueError"
   ]
  },
  {
   "cell_type": "markdown",
   "id": "4a2774ab-5a06-4353-bc1d-02d9ad14eb95",
   "metadata": {
    "editable": true,
    "slideshow": {
     "slide_type": ""
    },
    "tags": []
   },
   "source": [
    "We can optionally pass values to the exception to clarify why that exception was raised."
   ]
  },
  {
   "cell_type": "code",
   "execution_count": 28,
   "id": "a26835b3-123b-4856-9425-ffc5ef649ab3",
   "metadata": {
    "editable": true,
    "slideshow": {
     "slide_type": ""
    },
    "tags": [
     "raises-exception"
    ]
   },
   "outputs": [
    {
     "ename": "ValueError",
     "evalue": "Invalid value.",
     "output_type": "error",
     "traceback": [
      "\u001b[0;31m---------------------------------------------------------------------------\u001b[0m",
      "\u001b[0;31mValueError\u001b[0m                                Traceback (most recent call last)",
      "Cell \u001b[0;32mIn[28], line 1\u001b[0m\n\u001b[0;32m----> 1\u001b[0m \u001b[38;5;28;01mraise\u001b[39;00m \u001b[38;5;167;01mValueError\u001b[39;00m(\u001b[38;5;124m'\u001b[39m\u001b[38;5;124mInvalid value.\u001b[39m\u001b[38;5;124m'\u001b[39m)\n",
      "\u001b[0;31mValueError\u001b[0m: Invalid value."
     ]
    }
   ],
   "source": [
    "raise ValueError('Invalid value.')"
   ]
  },
  {
   "cell_type": "code",
   "execution_count": 29,
   "id": "82713b5a-377a-499f-a9c1-9ffb62867a52",
   "metadata": {
    "editable": true,
    "slideshow": {
     "slide_type": ""
    },
    "tags": [
     "raises-exception"
    ]
   },
   "outputs": [
    {
     "name": "stdout",
     "output_type": "stream",
     "text": [
      "Grades should be between 1 and 10\n"
     ]
    },
    {
     "ename": "Exception",
     "evalue": "Catalog of class B is corrupted",
     "output_type": "error",
     "traceback": [
      "\u001b[0;31m---------------------------------------------------------------------------\u001b[0m",
      "\u001b[0;31mValueError\u001b[0m                                Traceback (most recent call last)",
      "Cell \u001b[0;32mIn[29], line 8\u001b[0m\n\u001b[1;32m      7\u001b[0m     \u001b[38;5;28;01melse\u001b[39;00m:\n\u001b[0;32m----> 8\u001b[0m         \u001b[38;5;28;01mraise\u001b[39;00m \u001b[38;5;167;01mValueError\u001b[39;00m(\u001b[38;5;124m'\u001b[39m\u001b[38;5;124mGrades should be between 1 and 10\u001b[39m\u001b[38;5;124m'\u001b[39m)\n\u001b[1;32m      9\u001b[0m \u001b[38;5;28;01mexcept\u001b[39;00m \u001b[38;5;167;01mValueError\u001b[39;00m \u001b[38;5;28;01mas\u001b[39;00m ex:\n",
      "\u001b[0;31mValueError\u001b[0m: Grades should be between 1 and 10",
      "\nThe above exception was the direct cause of the following exception:\n",
      "\u001b[0;31mException\u001b[0m                                 Traceback (most recent call last)",
      "Cell \u001b[0;32mIn[29], line 11\u001b[0m\n\u001b[1;32m      9\u001b[0m \u001b[38;5;28;01mexcept\u001b[39;00m \u001b[38;5;167;01mValueError\u001b[39;00m \u001b[38;5;28;01mas\u001b[39;00m ex:\n\u001b[1;32m     10\u001b[0m     \u001b[38;5;28mprint\u001b[39m(ex)\n\u001b[0;32m---> 11\u001b[0m     \u001b[38;5;28;01mraise\u001b[39;00m \u001b[38;5;167;01mException\u001b[39;00m(\u001b[38;5;124m'\u001b[39m\u001b[38;5;124mCatalog of class B is corrupted\u001b[39m\u001b[38;5;124m'\u001b[39m) \u001b[38;5;28;01mfrom\u001b[39;00m \u001b[38;5;21;01mex\u001b[39;00m\n",
      "\u001b[0;31mException\u001b[0m: Catalog of class B is corrupted"
     ]
    }
   ],
   "source": [
    "grade = 12\n",
    "try:\n",
    "    if 1 <= grade < 5:\n",
    "        print('Oh, no! You failed!')\n",
    "    elif 5 <= grade <= 10:\n",
    "        print('Yay! You passed!')\n",
    "    else:\n",
    "        raise ValueError('Grades should be between 1 and 10')\n",
    "except ValueError as ex:\n",
    "    print(ex)\n",
    "    raise Exception('Catalog of class B is corrupted') from ex"
   ]
  },
  {
   "cell_type": "markdown",
   "id": "eb61821a-6d57-447c-a18b-5c00cbd1b2e4",
   "metadata": {
    "editable": true,
    "slideshow": {
     "slide_type": ""
    },
    "tags": []
   },
   "source": [
    "## Exercises\n",
    "\n",
    "1. Write a program to read two numbers: `x` and `y` from standard input and print the result of `x / y`. If the user inputs invalid data, display an error message and exit gracefully. \n",
    "\n",
    "    ```python\n",
    "    # Read from standard input using `input` function that displays a message and returns inputted string\n",
    "    name = input(\"what's your name?\")\n",
    "    what's your name?>? Iulia\n",
    "    name\n",
    "    Out[675]: 'Iulia'\n",
    "    ```\n",
    "1. Modify the previous program so that it asks the user to re-enter data until valid."
   ]
  }
 ],
 "metadata": {
  "kernelspec": {
   "display_name": "Python 3 (ipykernel)",
   "language": "python",
   "name": "python3"
  },
  "language_info": {
   "codemirror_mode": {
    "name": "ipython",
    "version": 3
   },
   "file_extension": ".py",
   "mimetype": "text/x-python",
   "name": "python",
   "nbconvert_exporter": "python",
   "pygments_lexer": "ipython3",
   "version": "3.12.4"
  }
 },
 "nbformat": 4,
 "nbformat_minor": 5
}
