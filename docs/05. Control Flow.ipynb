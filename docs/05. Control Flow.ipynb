{
 "cells": [
  {
   "cell_type": "markdown",
   "metadata": {},
   "source": [
    "# Control flow\n",
    "\n",
    "## Conditionals (`if` statement)\n",
    "\n",
    "`if` statement is used to verify a condition and execute the code in the `if` clause only if that condition evaluates as `True`."
   ]
  },
  {
   "cell_type": "code",
   "execution_count": 26,
   "metadata": {},
   "outputs": [
    {
     "name": "stdout",
     "output_type": "stream",
     "text": [
      "Congrats! You passed!\n"
     ]
    }
   ],
   "source": [
    "grade = 7\n",
    "if grade > 5:\n",
    "    print('Congrats! You passed!')"
   ]
  },
  {
   "cell_type": "markdown",
   "metadata": {},
   "source": [
    "You can add any number of `elif` clauses to check for alternative conditions. In Python, `if` is the only conditional statement; if you need something similar to a `case` or a `switch` from other languages, simply add more `elif` clauses. The `else` clause is also called the default condition. If all of the conditions above it are `False`, the code block under `else` will be executed. An `if` statement must define the `if` clause; `elif` and `else` are optional."
   ]
  },
  {
   "cell_type": "code",
   "execution_count": 27,
   "metadata": {},
   "outputs": [
    {
     "name": "stdout",
     "output_type": "stream",
     "text": [
      "Good job!\n"
     ]
    }
   ],
   "source": [
    "if grade == 10 or grade > 20:\n",
    "    print('Wow! Maximum grade!')\n",
    "elif grade >= 7:\n",
    "    print('Good job!')\n",
    "elif grade >= 5:\n",
    "    print('You could have done better.')\n",
    "else:\n",
    "    print('Oh, no! :(')"
   ]
  },
  {
   "cell_type": "markdown",
   "metadata": {},
   "source": [
    "## Looping (`while` and `for` statements)\n",
    "\n",
    "A `while` statement is used to execute a block of code while a condition evaluates as True."
   ]
  },
  {
   "cell_type": "code",
   "execution_count": 1,
   "metadata": {},
   "outputs": [
    {
     "name": "stdout",
     "output_type": "stream",
     "text": [
      "It's the final countdown!\n",
      "5\n",
      "4\n",
      "3\n",
      "2\n",
      "1\n",
      "Boom!\n"
     ]
    }
   ],
   "source": [
    "x = 5\n",
    "print(\"It's the final countdown!\")\n",
    "while x:\n",
    "    print(x)\n",
    "    x -= 1  # x = x - 1\n",
    "print(\"Boom!\")"
   ]
  },
  {
   "cell_type": "markdown",
   "metadata": {},
   "source": [
    "A `for` statement is used to iterate over an iterable object and do something for each element. It is similar to `foreach` in other programming languages. `for` is often the preferred looping statement because *iterable* objects are widely used in Python. For the moment, we can experiment with `str` - the iterable type we have studied so far: "
   ]
  },
  {
   "cell_type": "code",
   "execution_count": 29,
   "metadata": {
    "scrolled": true
   },
   "outputs": [
    {
     "name": "stdout",
     "output_type": "stream",
     "text": [
      "h\n",
      "e\n",
      "l\n",
      "l\n",
      "o\n"
     ]
    }
   ],
   "source": [
    "greeting = 'hello'\n",
    "for character in greeting:\n",
    "    print(character)"
   ]
  },
  {
   "cell_type": "markdown",
   "metadata": {},
   "source": [
    "## The `range()` function\n",
    "\n",
    "In order to emulate the behavior of `for` statements as we know them from other languages:\n",
    "\n",
    "```javascript\n",
    "for (i=0; i<10; i++) {\n",
    "  do_something(i);\n",
    "}\n",
    "```\n",
    "\n",
    "in Python, we use the `range()` built-in function:"
   ]
  },
  {
   "cell_type": "code",
   "execution_count": 30,
   "metadata": {},
   "outputs": [
    {
     "name": "stdout",
     "output_type": "stream",
     "text": [
      "0\n",
      "1\n",
      "2\n",
      "3\n",
      "4\n"
     ]
    }
   ],
   "source": [
    "for i in range(5):\n",
    "    print(i)"
   ]
  },
  {
   "cell_type": "markdown",
   "metadata": {},
   "source": [
    "`range` can be called with a single argument `stop`, producing the sequence of consecutive numbers between `0` and `stop - 1`, like above.\n",
    "\n",
    "Another variation of `range` call is `range(start, stop, step)` which starts with `start`, adds `step` on every iteration and stops when it reaches `stop`:"
   ]
  },
  {
   "cell_type": "code",
   "execution_count": 31,
   "metadata": {},
   "outputs": [
    {
     "name": "stdout",
     "output_type": "stream",
     "text": [
      "10\n",
      "8\n",
      "6\n",
      "4\n",
      "2\n"
     ]
    }
   ],
   "source": [
    "for i in range(10, 0, -2):\n",
    "    print(i)"
   ]
  },
  {
   "cell_type": "markdown",
   "metadata": {},
   "source": [
    "## Loop alteration (`break` and `continue` statements)\n",
    "\n",
    "The `break` statement terminates the loop containing it. Control of the program flows to the statement immediately after the body of the loop.\n",
    "\n",
    "If the `break` statement is inside a nested loop (loop inside another loop), the `break` statement will terminate the innermost loop."
   ]
  },
  {
   "cell_type": "code",
   "execution_count": 32,
   "metadata": {},
   "outputs": [
    {
     "name": "stdout",
     "output_type": "stream",
     "text": [
      "h\n",
      "e\n"
     ]
    }
   ],
   "source": [
    "for character in 'hello':\n",
    "    if character == 'l':\n",
    "        break\n",
    "    print(character)"
   ]
  },
  {
   "cell_type": "markdown",
   "metadata": {},
   "source": [
    "The `continue` statement is used to skip the rest of the code inside a loop for the current iteration only. Loop does not terminate but continues on with the next iteration."
   ]
  },
  {
   "cell_type": "code",
   "execution_count": 33,
   "metadata": {},
   "outputs": [
    {
     "name": "stdout",
     "output_type": "stream",
     "text": [
      "h\n",
      "e\n",
      "o\n"
     ]
    }
   ],
   "source": [
    "for character in 'hello':\n",
    "    if character == 'l':\n",
    "        continue\n",
    "    print(character)"
   ]
  },
  {
   "cell_type": "markdown",
   "metadata": {},
   "source": [
    "## Exercises\n",
    "\n",
    "1. Write a program that prints all integers between 500 and 525 (inclusive) using a `for` loop.\n",
    "1. Do the same as the previous exercise, but this time with a `while` loop.\n",
    "1. Do the same as exercise 1, but this time print only even numbers.\n",
    "1. Write a program that computes the sum of all numbers between 100 and 150.\n",
    "1. Write a Python program for checking the speed of drivers. \n",
    "    * If speed is less than or equal to 50, it should print `\"OK\"`.\n",
    "    * Otherwise, for every 5 km above the speed limit (50), it should give the \n",
    "    driver one demerit point and print the total number of demerit points. \n",
    "    For example, if the speed is 60, it should print: `\"Points: 2\"`.\n",
    "    * If the driver gets more than 12 points, it should print: \n",
    "    `\"License suspended\"`\n",
    " \n",
    "   Define a variable called `speed` and assign an integer value to it. \n",
    "   After running the program once, change its value and notice the changed output.\n",
    "\n",
    "1. Write a Python program which iterates the integers from 1 to 50 and prints their value. \n",
    " For multiples of three print `\"Fizz\"` instead of the number and for the \n",
    " multiples of five print `\"Buzz\"`. For numbers which are multiples of both three\n",
    " and five print `\"FizzBuzz\"`. If the number 30 is encountered, break the loop.\n",
    "\n",
    "    Output example:\n",
    "   ```\n",
    "   1\n",
    "   2\n",
    "   Fizz\n",
    "   4\n",
    "   Buzz\n",
    "   [...]\n",
    "   13\n",
    "   14\n",
    "   FizzBuzz\n",
    "   16\n",
    "   [...]\n",
    "   ```"
   ]
  }
 ],
 "metadata": {
  "kernelspec": {
   "display_name": "Python 3 (ipykernel)",
   "language": "python",
   "name": "python3"
  },
  "language_info": {
   "codemirror_mode": {
    "name": "ipython",
    "version": 3
   },
   "file_extension": ".py",
   "mimetype": "text/x-python",
   "name": "python",
   "nbconvert_exporter": "python",
   "pygments_lexer": "ipython3",
   "version": "3.12.4"
  }
 },
 "nbformat": 4,
 "nbformat_minor": 4
}
